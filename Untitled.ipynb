{
 "cells": [
  {
   "cell_type": "code",
   "execution_count": 2,
   "id": "da3f781a",
   "metadata": {},
   "outputs": [],
   "source": [
    "from nltk.stem import PorterStemmer"
   ]
  },
  {
   "cell_type": "code",
   "execution_count": 3,
   "id": "3b0f04d4",
   "metadata": {},
   "outputs": [],
   "source": [
    "stemmer = PorterStemmer()"
   ]
  },
  {
   "cell_type": "code",
   "execution_count": 72,
   "id": "0cbaf2eb",
   "metadata": {},
   "outputs": [],
   "source": [
    "def get_stem_word(text: str) -> str:\n",
    "    \n",
    "    stemmed_words = []\n",
    "    sent_list = text.split()\n",
    "    \n",
    "    for word in sent_list:\n",
    "        try:\n",
    "            stemmed_words.append(stemmer.stem(word)) \n",
    "        except:\n",
    "             stemmed_words.append(word)\n",
    "    return ' '.join(stemmed_words)"
   ]
  },
  {
   "cell_type": "code",
   "execution_count": 119,
   "id": "7df36b01",
   "metadata": {},
   "outputs": [],
   "source": [
    "# path for the cleaned data we are going to use\n",
    "CLEANED_SAVE_PATH = \"../Wednsday_Task/cleaned_fintech_data.csv\""
   ]
  },
  {
   "cell_type": "code",
   "execution_count": 120,
   "id": "d37ed773",
   "metadata": {},
   "outputs": [],
   "source": [
    "# taking a csv file path and reading a dataframe\n",
    "\n",
    "def read_proccessed_data(csv_path: str):\n",
    "    try:    \n",
    "        df = pd.read_csv(csv_path)\n",
    "        print(\"file read as csv\")\n",
    "        return df\n",
    "    \n",
    "    except FileNotFoundError:\n",
    "        print(\"file not found\")"
   ]
  },
  {
   "cell_type": "code",
   "execution_count": 121,
   "id": "c50b007d",
   "metadata": {},
   "outputs": [],
   "source": [
    "import pandas as pd\n",
    "from wordcloud import STOPWORDS,WordCloud"
   ]
  },
  {
   "cell_type": "code",
   "execution_count": 122,
   "id": "f70a0222",
   "metadata": {},
   "outputs": [
    {
     "name": "stdout",
     "output_type": "stream",
     "text": [
      "file read as csv\n"
     ]
    }
   ],
   "source": [
    "# reading the data\n",
    "\n",
    "df = read_proccessed_data(CLEANED_SAVE_PATH)"
   ]
  },
  {
   "cell_type": "code",
   "execution_count": 123,
   "id": "da0e856a",
   "metadata": {},
   "outputs": [
    {
     "name": "stdout",
     "output_type": "stream",
     "text": [
      "<class 'pandas.core.frame.DataFrame'>\n",
      "RangeIndex: 5621 entries, 0 to 5620\n",
      "Data columns (total 21 columns):\n",
      " #   Column                  Non-Null Count  Dtype  \n",
      "---  ------                  --------------  -----  \n",
      " 0   Unnamed: 0              5620 non-null   float64\n",
      " 1   created_at              5621 non-null   object \n",
      " 2   source                  5621 non-null   object \n",
      " 3   original_text           5621 non-null   object \n",
      " 4   clean_text              5617 non-null   object \n",
      " 5   sentiment               5621 non-null   object \n",
      " 6   polarity                5621 non-null   object \n",
      " 7   subjectivity            5621 non-null   object \n",
      " 8   lang                    5621 non-null   object \n",
      " 9   favorite_count          5621 non-null   object \n",
      " 10  retweet_count           5621 non-null   object \n",
      " 11  original_author         5621 non-null   object \n",
      " 12  screen_count            5621 non-null   object \n",
      " 13  followers_count         5621 non-null   object \n",
      " 14  friends_count           5621 non-null   object \n",
      " 15  possibly_sensitive      131 non-null    object \n",
      " 16  hashtags                813 non-null    object \n",
      " 17  user_mentions           5621 non-null   object \n",
      " 18  place                   1 non-null      object \n",
      " 19  place_coord_boundaries  3603 non-null   object \n",
      " 20  timestamp               5621 non-null   object \n",
      "dtypes: float64(1), object(20)\n",
      "memory usage: 922.3+ KB\n"
     ]
    }
   ],
   "source": [
    "# inspecting the columns\n",
    "df.info()"
   ]
  },
  {
   "cell_type": "code",
   "execution_count": 124,
   "id": "521f1dca",
   "metadata": {},
   "outputs": [
    {
     "data": {
      "text/plain": [
       "0.0                    2134\n",
       "0.5                     340\n",
       "-0.1                    252\n",
       "0.13636363636363635     200\n",
       "0.15416666666666667     144\n",
       "                       ... \n",
       "0.22272727272727275       2\n",
       "0.19285714285714284       2\n",
       "0.24090909090909093       2\n",
       "-0.125                    2\n",
       "polarity                  1\n",
       "Name: polarity, Length: 246, dtype: int64"
      ]
     },
     "execution_count": 124,
     "metadata": {},
     "output_type": "execute_result"
    }
   ],
   "source": [
    "# inspecting the polarity column\n",
    "df['polarity']\n",
    "df['polarity'].value_counts()\n"
   ]
  },
  {
   "cell_type": "code",
   "execution_count": 125,
   "id": "1b658215",
   "metadata": {},
   "outputs": [
    {
     "name": "stdout",
     "output_type": "stream",
     "text": [
      "sum of null values in clean_text column: 4\n",
      "sum of null values in polarity cloumn: 0\n"
     ]
    }
   ],
   "source": [
    "# checking if there are null values\n",
    "text_null_sum = df['clean_text'].isnull().sum()\n",
    "polarity_null_sum = df['polarity'].isnull().sum()\n",
    "\n",
    "print(f'sum of null values in clean_text column: {text_null_sum}')\n",
    "print(f'sum of null values in polarity cloumn: {polarity_null_sum}')"
   ]
  },
  {
   "cell_type": "code",
   "execution_count": 126,
   "id": "ca420835",
   "metadata": {},
   "outputs": [],
   "source": [
    "# creating cleanedTweet dataframe\n",
    "cleanedTweet = pd.DataFrame(columns=['clean_text','polarity'])\n",
    "\n",
    "cleanedTweet['clean_text'] = df['clean_text']\n",
    "cleanedTweet['polarity'] = df['polarity']\n",
    "cleanedTweet.dropna(inplace=True)"
   ]
  },
  {
   "cell_type": "code",
   "execution_count": 127,
   "id": "510f75dd",
   "metadata": {},
   "outputs": [
    {
     "data": {
      "text/html": [
       "<div>\n",
       "<style scoped>\n",
       "    .dataframe tbody tr th:only-of-type {\n",
       "        vertical-align: middle;\n",
       "    }\n",
       "\n",
       "    .dataframe tbody tr th {\n",
       "        vertical-align: top;\n",
       "    }\n",
       "\n",
       "    .dataframe thead th {\n",
       "        text-align: right;\n",
       "    }\n",
       "</style>\n",
       "<table border=\"1\" class=\"dataframe\">\n",
       "  <thead>\n",
       "    <tr style=\"text-align: right;\">\n",
       "      <th></th>\n",
       "      <th>clean_text</th>\n",
       "      <th>polarity</th>\n",
       "    </tr>\n",
       "  </thead>\n",
       "  <tbody>\n",
       "    <tr>\n",
       "      <th>0</th>\n",
       "      <td>Giving forth life becoming burden Kenya This m...</td>\n",
       "      <td>0.3194444444444445</td>\n",
       "    </tr>\n",
       "    <tr>\n",
       "      <th>1</th>\n",
       "      <td>Teenmaar crPanja crGabbarsingh cr Khaleja Kuda...</td>\n",
       "      <td>0.0</td>\n",
       "    </tr>\n",
       "    <tr>\n",
       "      <th>2</th>\n",
       "      <td>Rei chintu lo Vachina Ad Nizam ne lo kottaru f...</td>\n",
       "      <td>0.0</td>\n",
       "    </tr>\n",
       "    <tr>\n",
       "      <th>3</th>\n",
       "      <td>Today World Day Combat Restoring degraded land...</td>\n",
       "      <td>0.25</td>\n",
       "    </tr>\n",
       "    <tr>\n",
       "      <th>4</th>\n",
       "      <td>Hearing say 's confident vaccines delivered li...</td>\n",
       "      <td>0.5</td>\n",
       "    </tr>\n",
       "    <tr>\n",
       "      <th>...</th>\n",
       "      <td>...</td>\n",
       "      <td>...</td>\n",
       "    </tr>\n",
       "    <tr>\n",
       "      <th>5616</th>\n",
       "      <td>Lambie voted AGAINST Medivac Carbon tax protec...</td>\n",
       "      <td>0.13636363636363635</td>\n",
       "    </tr>\n",
       "    <tr>\n",
       "      <th>5617</th>\n",
       "      <td>Idhi bathuku Most Day1 Records In Nizam Non BB...</td>\n",
       "      <td>0.5</td>\n",
       "    </tr>\n",
       "    <tr>\n",
       "      <th>5618</th>\n",
       "      <td>welkin moon giveaway bc finally money -u got t...</td>\n",
       "      <td>0.15416666666666667</td>\n",
       "    </tr>\n",
       "    <tr>\n",
       "      <th>5619</th>\n",
       "      <td>Manam edi chesina Daaniki kuda elevation istad...</td>\n",
       "      <td>0.0</td>\n",
       "    </tr>\n",
       "    <tr>\n",
       "      <th>5620</th>\n",
       "      <td>This first time I 've seen Government media le...</td>\n",
       "      <td>0.13</td>\n",
       "    </tr>\n",
       "  </tbody>\n",
       "</table>\n",
       "<p>5617 rows × 2 columns</p>\n",
       "</div>"
      ],
      "text/plain": [
       "                                             clean_text             polarity\n",
       "0     Giving forth life becoming burden Kenya This m...   0.3194444444444445\n",
       "1     Teenmaar crPanja crGabbarsingh cr Khaleja Kuda...                  0.0\n",
       "2     Rei chintu lo Vachina Ad Nizam ne lo kottaru f...                  0.0\n",
       "3     Today World Day Combat Restoring degraded land...                 0.25\n",
       "4     Hearing say 's confident vaccines delivered li...                  0.5\n",
       "...                                                 ...                  ...\n",
       "5616  Lambie voted AGAINST Medivac Carbon tax protec...  0.13636363636363635\n",
       "5617  Idhi bathuku Most Day1 Records In Nizam Non BB...                  0.5\n",
       "5618  welkin moon giveaway bc finally money -u got t...  0.15416666666666667\n",
       "5619  Manam edi chesina Daaniki kuda elevation istad...                  0.0\n",
       "5620  This first time I 've seen Government media le...                 0.13\n",
       "\n",
       "[5617 rows x 2 columns]"
      ]
     },
     "execution_count": 127,
     "metadata": {},
     "output_type": "execute_result"
    }
   ],
   "source": [
    "cleanedTweet"
   ]
  },
  {
   "cell_type": "code",
   "execution_count": 128,
   "id": "44f9bb95",
   "metadata": {},
   "outputs": [],
   "source": [
    "# takes polarity and returns a string either postive, negative or neutral\n",
    "\n",
    "def text_category(p: float) -> str:\n",
    "    if p > 0:\n",
    "        return \"positive\"\n",
    "    elif p == 0:\n",
    "        return \"neutral\"\n",
    "    else:\n",
    "        return \"negative\""
   ]
  },
  {
   "cell_type": "code",
   "execution_count": 129,
   "id": "954b9f04",
   "metadata": {},
   "outputs": [
    {
     "ename": "TypeError",
     "evalue": "'>' not supported between instances of 'str' and 'int'",
     "output_type": "error",
     "traceback": [
      "\u001b[1;31m---------------------------------------------------------------------------\u001b[0m",
      "\u001b[1;31mTypeError\u001b[0m                                 Traceback (most recent call last)",
      "\u001b[1;32m<ipython-input-129-1e640ab33875>\u001b[0m in \u001b[0;36m<module>\u001b[1;34m\u001b[0m\n\u001b[0;32m      1\u001b[0m \u001b[1;31m# creating score column by applying text_category\u001b[0m\u001b[1;33m\u001b[0m\u001b[1;33m\u001b[0m\u001b[1;33m\u001b[0m\u001b[0m\n\u001b[1;32m----> 2\u001b[1;33m \u001b[0mcleanedTweet\u001b[0m\u001b[1;33m[\u001b[0m\u001b[1;34m'score'\u001b[0m\u001b[1;33m]\u001b[0m \u001b[1;33m=\u001b[0m \u001b[0mcleanedTweet\u001b[0m\u001b[1;33m[\u001b[0m\u001b[1;34m'polarity'\u001b[0m\u001b[1;33m]\u001b[0m\u001b[1;33m.\u001b[0m\u001b[0mapply\u001b[0m\u001b[1;33m(\u001b[0m\u001b[0mtext_category\u001b[0m\u001b[1;33m)\u001b[0m\u001b[1;33m\u001b[0m\u001b[1;33m\u001b[0m\u001b[0m\n\u001b[0m\u001b[0;32m      3\u001b[0m \u001b[0mcleanedTweet\u001b[0m\u001b[1;33m[\u001b[0m\u001b[1;34m'score'\u001b[0m\u001b[1;33m]\u001b[0m\u001b[1;33m.\u001b[0m\u001b[0mvalue_counts\u001b[0m\u001b[1;33m(\u001b[0m\u001b[1;33m)\u001b[0m\u001b[1;33m\u001b[0m\u001b[1;33m\u001b[0m\u001b[0m\n",
      "\u001b[1;32m~\\anaconda3\\lib\\site-packages\\pandas\\core\\series.py\u001b[0m in \u001b[0;36mapply\u001b[1;34m(self, func, convert_dtype, args, **kwds)\u001b[0m\n\u001b[0;32m   4136\u001b[0m             \u001b[1;32melse\u001b[0m\u001b[1;33m:\u001b[0m\u001b[1;33m\u001b[0m\u001b[1;33m\u001b[0m\u001b[0m\n\u001b[0;32m   4137\u001b[0m                 \u001b[0mvalues\u001b[0m \u001b[1;33m=\u001b[0m \u001b[0mself\u001b[0m\u001b[1;33m.\u001b[0m\u001b[0mastype\u001b[0m\u001b[1;33m(\u001b[0m\u001b[0mobject\u001b[0m\u001b[1;33m)\u001b[0m\u001b[1;33m.\u001b[0m\u001b[0m_values\u001b[0m\u001b[1;33m\u001b[0m\u001b[1;33m\u001b[0m\u001b[0m\n\u001b[1;32m-> 4138\u001b[1;33m                 \u001b[0mmapped\u001b[0m \u001b[1;33m=\u001b[0m \u001b[0mlib\u001b[0m\u001b[1;33m.\u001b[0m\u001b[0mmap_infer\u001b[0m\u001b[1;33m(\u001b[0m\u001b[0mvalues\u001b[0m\u001b[1;33m,\u001b[0m \u001b[0mf\u001b[0m\u001b[1;33m,\u001b[0m \u001b[0mconvert\u001b[0m\u001b[1;33m=\u001b[0m\u001b[0mconvert_dtype\u001b[0m\u001b[1;33m)\u001b[0m\u001b[1;33m\u001b[0m\u001b[1;33m\u001b[0m\u001b[0m\n\u001b[0m\u001b[0;32m   4139\u001b[0m \u001b[1;33m\u001b[0m\u001b[0m\n\u001b[0;32m   4140\u001b[0m         \u001b[1;32mif\u001b[0m \u001b[0mlen\u001b[0m\u001b[1;33m(\u001b[0m\u001b[0mmapped\u001b[0m\u001b[1;33m)\u001b[0m \u001b[1;32mand\u001b[0m \u001b[0misinstance\u001b[0m\u001b[1;33m(\u001b[0m\u001b[0mmapped\u001b[0m\u001b[1;33m[\u001b[0m\u001b[1;36m0\u001b[0m\u001b[1;33m]\u001b[0m\u001b[1;33m,\u001b[0m \u001b[0mSeries\u001b[0m\u001b[1;33m)\u001b[0m\u001b[1;33m:\u001b[0m\u001b[1;33m\u001b[0m\u001b[1;33m\u001b[0m\u001b[0m\n",
      "\u001b[1;32mpandas\\_libs\\lib.pyx\u001b[0m in \u001b[0;36mpandas._libs.lib.map_infer\u001b[1;34m()\u001b[0m\n",
      "\u001b[1;32m<ipython-input-128-168b7ddc307c>\u001b[0m in \u001b[0;36mtext_category\u001b[1;34m(p)\u001b[0m\n\u001b[0;32m      2\u001b[0m \u001b[1;33m\u001b[0m\u001b[0m\n\u001b[0;32m      3\u001b[0m \u001b[1;32mdef\u001b[0m \u001b[0mtext_category\u001b[0m\u001b[1;33m(\u001b[0m\u001b[0mp\u001b[0m\u001b[1;33m:\u001b[0m \u001b[0mfloat\u001b[0m\u001b[1;33m)\u001b[0m \u001b[1;33m->\u001b[0m \u001b[0mstr\u001b[0m\u001b[1;33m:\u001b[0m\u001b[1;33m\u001b[0m\u001b[1;33m\u001b[0m\u001b[0m\n\u001b[1;32m----> 4\u001b[1;33m     \u001b[1;32mif\u001b[0m \u001b[0mp\u001b[0m \u001b[1;33m>\u001b[0m \u001b[1;36m0\u001b[0m\u001b[1;33m:\u001b[0m\u001b[1;33m\u001b[0m\u001b[1;33m\u001b[0m\u001b[0m\n\u001b[0m\u001b[0;32m      5\u001b[0m         \u001b[1;32mreturn\u001b[0m \u001b[1;34m\"positive\"\u001b[0m\u001b[1;33m\u001b[0m\u001b[1;33m\u001b[0m\u001b[0m\n\u001b[0;32m      6\u001b[0m     \u001b[1;32melif\u001b[0m \u001b[0mp\u001b[0m \u001b[1;33m==\u001b[0m \u001b[1;36m0\u001b[0m\u001b[1;33m:\u001b[0m\u001b[1;33m\u001b[0m\u001b[1;33m\u001b[0m\u001b[0m\n",
      "\u001b[1;31mTypeError\u001b[0m: '>' not supported between instances of 'str' and 'int'"
     ]
    }
   ],
   "source": [
    "# creating score column by applying text_category\n",
    "cleanedTweet['score'] = cleanedTweet['polarity'].apply(text_category)\n",
    "cleanedTweet['score'].value_counts()"
   ]
  },
  {
   "cell_type": "code",
   "execution_count": 115,
   "id": "4734777c",
   "metadata": {},
   "outputs": [],
   "source": [
    "\n",
    "from sklearn.feature_extraction.text import CountVectorizer, TfidfTransformer\n",
    "from joblib import dump, load # used for saving and loading sklearn objects\n",
    "from scipy.sparse import save_npz, load_npz # used for saving and loading sparse matrices\n",
    "from sklearn.decomposition import NMF, LatentDirichletAllocation\n",
    "from sklearn.linear_model import SGDClassifier\n",
    "from sklearn.model_selection import train_test_split"
   ]
  },
  {
   "cell_type": "code",
   "execution_count": 116,
   "id": "1967a82b",
   "metadata": {},
   "outputs": [
    {
     "data": {
      "text/plain": [
       "<AxesSubplot:title={'center':'score'}>"
      ]
     },
     "execution_count": 116,
     "metadata": {},
     "output_type": "execute_result"
    },
    {
     "data": {
      "image/png": "[encoded data removed]",
      "text/plain": [
       "<Figure size 576x576 with 1 Axes>"
      ]
     },
     "metadata": {
      "needs_background": "light"
     },
     "output_type": "display_data"
    }
   ],
   "source": [
    "# Grouping the scores and plotting bar graph\n",
    "score_count =  cleanedTweet['score'].value_counts()\n",
    "score_count.plot(kind=\"bar\", y=\"score\", title=\"score\", figsize=[8, 8])"
   ]
  },
  {
   "cell_type": "code",
   "execution_count": 117,
   "id": "743eaf31",
   "metadata": {},
   "outputs": [
    {
     "data": {
      "text/plain": [
       "<AxesSubplot:title={'center':'score'}, ylabel='score'>"
      ]
     },
     "execution_count": 117,
     "metadata": {},
     "output_type": "execute_result"
    },
    {
     "data": {
      "image/png": "[encoded data removed]",
      "text/plain": [
       "<Figure size 576x576 with 1 Axes>"
      ]
     },
     "metadata": {},
     "output_type": "display_data"
    }
   ],
   "source": [
    "score_count.plot(kind=\"pie\", y=\"score\", title=\"score\", x=\"\", figsize=[8, 8])"
   ]
  },
  {
   "cell_type": "code",
   "execution_count": 118,
   "id": "e5cac3fb",
   "metadata": {},
   "outputs": [],
   "source": [
    "# takes a string and returns if a value is \"neutral\"\n",
    "def remove_neutral(value):\n",
    "    return value != \"neutral\""
   ]
  },
  {
   "cell_type": "code",
   "execution_count": 88,
   "id": "8605ab5d",
   "metadata": {},
   "outputs": [],
   "source": [
    "# creating score_map column\n",
    "# we remove all rows that have neutral score\n",
    "# then create a score_map. if score is \"positive\" it has value 1 else 0\n",
    "\n",
    "cleanedTweet = cleanedTweet[cleanedTweet['score'].map(remove_neutral)]\n",
    "cleanedTweet['score_map'] = cleanedTweet[\"score\"].map( lambda score: 1 if score == \"positive\" else 0)"
   ]
  },
  {
   "cell_type": "code",
   "execution_count": 89,
   "id": "84ba074d",
   "metadata": {},
   "outputs": [],
   "source": [
    "# transforming clean_tex bygetting the root word of clean_text words using Stemming\n",
    "cleanedTweet['clean_text'] = cleanedTweet['clean_text'].apply(get_stem_word)"
   ]
  },
  {
   "cell_type": "code",
   "execution_count": 90,
   "id": "3017fb1d",
   "metadata": {},
   "outputs": [],
   "source": [
    "# separating our input and output\n",
    "(X, y) = cleanedTweet['clean_text'], cleanedTweet['score_map']"
   ]
  },
  {
   "cell_type": "code",
   "execution_count": 91,
   "id": "4de61d95",
   "metadata": {},
   "outputs": [
    {
     "data": {
      "text/plain": [
       "CountVectorizer(ngram_range=(1, 3))"
      ]
     },
     "execution_count": 91,
     "metadata": {},
     "output_type": "execute_result"
    }
   ],
   "source": [
    "# creating CountVectorizer and fitting it\n",
    "trigram_vectorizer = CountVectorizer(ngram_range=(1, 3))\n",
    "trigram_vectorizer.fit(X.values)"
   ]
  },
  {
   "cell_type": "code",
   "execution_count": 92,
   "id": "b8cfcc86",
   "metadata": {},
   "outputs": [],
   "source": [
    "# creating a tri_gram Vector representation for X\n",
    "X_trigram = trigram_vectorizer.transform(X.values)"
   ]
  },
  {
   "cell_type": "code",
   "execution_count": 93,
   "id": "fa4f598a",
   "metadata": {},
   "outputs": [
    {
     "data": {
      "text/plain": [
       "TfidfTransformer()"
      ]
     },
     "execution_count": 93,
     "metadata": {},
     "output_type": "execute_result"
    }
   ],
   "source": [
    "# creating a trigram tfidf transformer\n",
    "trigram_tf_idf_transformer = TfidfTransformer()\n",
    "trigram_tf_idf_transformer.fit(X_trigram)"
   ]
  },
  {
   "cell_type": "code",
   "execution_count": 94,
   "id": "926d4d90",
   "metadata": {},
   "outputs": [],
   "source": [
    "# creating a tfidf representation of x\n",
    "X_train_tf_idf = trigram_tf_idf_transformer.transform(X_trigram)"
   ]
  },
  {
   "cell_type": "code",
   "execution_count": 95,
   "id": "394c8cb3",
   "metadata": {},
   "outputs": [],
   "source": [
    "# takes input as X, and ouput as Y, title of model as title\n",
    "# split the input to train and valid\n",
    "# use Stochastic Gradient Descent Classifier\n",
    "# train\n",
    "# out put the training score and validation score\n",
    "def train_and_show_scores(X, y, title: str) -> None:\n",
    "    X_train, X_valid, y_train, y_valid = train_test_split(\n",
    "        X, y, train_size=0.75, stratify=y\n",
    "    )\n",
    "\n",
    "    clf = SGDClassifier()\n",
    "    clf.fit(X_train, y_train)\n",
    "    train_score = clf.score(X_train, y_train)\n",
    "    valid_score = clf.score(X_valid, y_valid)\n",
    "    print(f'{title}\\nTrain score: {round(train_score, 2)} ; Validation score: {round(valid_score, 2)}\\n')"
   ]
  },
  {
   "cell_type": "code",
   "execution_count": 96,
   "id": "71f3708d",
   "metadata": {},
   "outputs": [
    {
     "name": "stdout",
     "output_type": "stream",
     "text": [
      "trigram\n",
      "Train score: 1.0 ; Validation score: 0.97\n",
      "\n"
     ]
    }
   ],
   "source": [
    "# train using inputs vectorized as trigram\n",
    "\n",
    "train_and_show_scores(X_trigram, y, title=\"trigram\")"
   ]
  },
  {
   "cell_type": "code",
   "execution_count": 97,
   "id": "38a272cd",
   "metadata": {},
   "outputs": [
    {
     "name": "stdout",
     "output_type": "stream",
     "text": [
      "trigram_tf_idf\n",
      "Train score: 1.0 ; Validation score: 0.96\n",
      "\n"
     ]
    }
   ],
   "source": [
    "# train using inputs vectorized as trigram_tfidf\n",
    "\n",
    "\n",
    "train_and_show_scores(X_train_tf_idf, y, title=\"trigram_tf_idf\")"
   ]
  }
 ],
 "metadata": {
  "kernelspec": {
   "display_name": "Python 3",
   "language": "python",
   "name": "python3"
  },
  "language_info": {
   "codemirror_mode": {
    "name": "ipython",
    "version": 3
   },
   "file_extension": ".py",
   "mimetype": "text/x-python",
   "name": "python",
   "nbconvert_exporter": "python",
   "pygments_lexer": "ipython3",
   "version": "3.8.8"
  }
 },
 "nbformat": 4,
 "nbformat_minor": 5
}
