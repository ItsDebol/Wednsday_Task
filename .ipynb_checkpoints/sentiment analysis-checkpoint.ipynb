{
 "cells": [
  {
   "cell_type": "code",
   "execution_count": 2,
   "id": "e7d1260b",
   "metadata": {},
   "outputs": [],
   "source": [
    "CLEANED_SAVE_PATH = \"./cleaned_tweet_data.csv\"\n",
    "#file path for the csv file to be analyzed"
   ]
  },
  {
   "cell_type": "code",
   "execution_count": 3,
   "id": "0a614bea",
   "metadata": {},
   "outputs": [],
   "source": [
    "import pandas as pd\n",
    "from wordcloud import STOPWORDS,WordCloud\n",
    "#panda and word cloud are installed via anaconda terminal"
   ]
  },
  {
   "cell_type": "code",
   "execution_count": 5,
   "id": "f450ccea",
   "metadata": {},
   "outputs": [],
   "source": [
    "def read_proccessed_data(csv_path):\n",
    "    df = pd.read_csv(csv_path)\n",
    "    return df"
   ]
  },
  {
   "cell_type": "code",
   "execution_count": 6,
   "id": "69cdfc31",
   "metadata": {},
   "outputs": [
    {
     "name": "stdout",
     "output_type": "stream",
     "text": [
      "<class 'pandas.core.frame.DataFrame'>\n",
      "RangeIndex: 6532 entries, 0 to 6531\n",
      "Data columns (total 16 columns):\n",
      " #   Column              Non-Null Count  Dtype  \n",
      "---  ------              --------------  -----  \n",
      " 0   created_at          6532 non-null   object \n",
      " 1   source              6532 non-null   object \n",
      " 2   original_text       6532 non-null   object \n",
      " 3   polarity            6532 non-null   float64\n",
      " 4   subjectivity        6532 non-null   float64\n",
      " 5   lang                6532 non-null   object \n",
      " 6   favorite_count      6532 non-null   int64  \n",
      " 7   retweet_count       6532 non-null   float64\n",
      " 8   original_author     6532 non-null   object \n",
      " 9   followers_count     6532 non-null   int64  \n",
      " 10  friends_count       6532 non-null   int64  \n",
      " 11  possibly_sensitive  6532 non-null   float64\n",
      " 12  hashtags            6532 non-null   object \n",
      " 13  user_mentions       6532 non-null   object \n",
      " 14  place               6532 non-null   object \n",
      " 15  clean_text          6530 non-null   object \n",
      "dtypes: float64(4), int64(3), object(9)\n",
      "memory usage: 816.6+ KB\n"
     ]
    }
   ],
   "source": [
    "df = read_proccessed_data(CLEANED_SAVE_PATH)\n",
    "df.info()\n",
    "#to inspect the columns"
   ]
  },
  {
   "cell_type": "code",
   "execution_count": 7,
   "id": "224b23cb",
   "metadata": {},
   "outputs": [
    {
     "data": {
      "text/plain": [
       " 0.000000    1829\n",
       "-0.750000     501\n",
       " 0.500000     210\n",
       " 0.133333     202\n",
       " 0.337500     189\n",
       "             ... \n",
       " 0.518182       1\n",
       "-0.060000       1\n",
       " 0.096591       1\n",
       " 0.260000       1\n",
       "-0.292857       1\n",
       "Name: polarity, Length: 380, dtype: int64"
      ]
     },
     "execution_count": 7,
     "metadata": {},
     "output_type": "execute_result"
    }
   ],
   "source": [
    "# identifying the third column which is polarity\n",
    "df['polarity']\n",
    "df['polarity'].value_counts()"
   ]
  },
  {
   "cell_type": "code",
   "execution_count": null,
   "id": "f088465c",
   "metadata": {
    "scrolled": true
   },
   "outputs": [],
   "source": [
    "# checking if there are null values\n",
    "text_null_sum = df['clean_text'].isnull().sum()\n",
    "polarity_null_sum = df['polarity'].isnull().sum()\n",
    "\n",
    "print(f'the total null vaues in the column \"clean_Text\" is: {text_null_sum}')\n",
    "print(f'the total null vaues in the column \"polarity\" is: {polarity_null_sum}')"
   ]
  },
  {
   "cell_type": "code",
   "execution_count": null,
   "id": "1927c69c",
   "metadata": {},
   "outputs": [],
   "source": [
    "# now creating a separate dataframe called \"cleanedtweet\" for 'polarity' and 'clean_text' columns \n",
    "cleanedTweet = pd.DataFrame(columns=['clean_text','polarity'])\n",
    "\n",
    "cleanedTweet['clean_text'] = df['clean_text']\n",
    "cleanedTweet['polarity'] = df['polarity']\n",
    "cleanedTweet.dropna(inplace=True)"
   ]
  },
  {
   "cell_type": "code",
   "execution_count": null,
   "id": "f342ff3e",
   "metadata": {},
   "outputs": [],
   "source": [
    "cleanedTweet"
   ]
  },
  {
   "cell_type": "code",
   "execution_count": null,
   "id": "b0e395b5",
   "metadata": {},
   "outputs": [],
   "source": [
    "def text_category(p: float) -> str:\n",
    "    if p > 0:\n",
    "        return \"positive\"\n",
    "    elif p == 0:\n",
    "        return \"neutral\"\n",
    "    else:\n",
    "        return \"negative\"\n",
    "    # this function  will taka a float variable 'p' to evaluate it in the \"if\" function and return it as a string "
   ]
  },
  {
   "cell_type": "code",
   "execution_count": null,
   "id": "91d59ca1",
   "metadata": {},
   "outputs": [],
   "source": [
    "# creating score column by applying text_category\n",
    "cleanedTweet['score'] = cleanedTweet['polarity'].apply(text_category)\n",
    "cleanedTweet['score'].value_counts()\n",
    "#data is ready to be plotted and analyzed"
   ]
  },
  {
   "cell_type": "code",
   "execution_count": null,
   "id": "33ded17b",
   "metadata": {},
   "outputs": [],
   "source": [
    "from sklearn.feature_extraction.text import CountVectorizer, TfidfTransformer\n",
    "from joblib import dump, load # used for saving and loading sklearn objects\n",
    "from scipy.sparse import save_npz, load_npz # used for saving and loading sparse matrices\n",
    "from sklearn.decomposition import NMF, LatentDirichletAllocation\n",
    "from sklearn.linear_model import SGDClassifier\n",
    "from sklearn.model_selection import train_test_split\n",
    "\n",
    "#importing the necessary librarie packages for a plot"
   ]
  },
  {
   "cell_type": "code",
   "execution_count": null,
   "id": "f02730e0",
   "metadata": {},
   "outputs": [],
   "source": [
    "\n",
    "# Grouping the scores and plotting bar graph\n",
    "score_count =  cleanedTweet['score'].value_counts()\n",
    "score_count.plot(kind=\"bar\", y=\"score\", title=\"score\", figsize=[5, 5])"
   ]
  },
  {
   "cell_type": "code",
   "execution_count": null,
   "id": "7de1d4c5",
   "metadata": {},
   "outputs": [],
   "source": [
    "score_count.plot(kind=\"pie\", y=\"score\", title=\"score\", x=\"\", figsize=[4, 4])\n"
   ]
  }
 ],
 "metadata": {
  "kernelspec": {
   "display_name": "Python 3",
   "language": "python",
   "name": "python3"
  },
  "language_info": {
   "codemirror_mode": {
    "name": "ipython",
    "version": 3
   },
   "file_extension": ".py",
   "mimetype": "text/x-python",
   "name": "python",
   "nbconvert_exporter": "python",
   "pygments_lexer": "ipython3",
   "version": "3.8.8"
  }
 },
 "nbformat": 4,
 "nbformat_minor": 5
}
